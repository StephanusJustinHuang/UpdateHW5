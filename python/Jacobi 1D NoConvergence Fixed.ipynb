{
 "cells": [
  {
   "cell_type": "code",
   "execution_count": 36,
   "id": "74cc5f82",
   "metadata": {},
   "outputs": [],
   "source": [
    "%matplotlib inline"
   ]
  },
  {
   "cell_type": "code",
   "execution_count": 37,
   "id": "ce68ab94",
   "metadata": {},
   "outputs": [],
   "source": [
    "import numpy as np\n",
    "import scipy.sparse as sp\n",
    "from scipy.sparse import csr_matrix\n",
    "from pyamg.relaxation.relaxation import jacobi\n",
    "save = 1"
   ]
  },
  {
   "cell_type": "code",
   "execution_count": 38,
   "id": "3a2d100c",
   "metadata": {},
   "outputs": [],
   "source": [
    "A_dense = [[1,-1,0,0,0,0,0],[-1,2,-1,0,0,0,0],[0,-1,2,-1,0,0,0],[0,0,-1,2,-1,0,0],[0,0,0,-1,2,-1,0], [0,0,0,0,-1,2,-1],[0,0,0,0,0,-1,1]]\n",
    "A = csr_matrix(A_dense, dtype=float)\n",
    "x_true = np.ones(A.shape[0],)\n",
    "b = A.dot(x_true)\n",
    "x = np.copy(x_true)\n",
    "x[0] = -1\n",
    "x[1] = 1\n",
    "x[2] = -1\n",
    "x[3] = 1\n",
    "x[4] = -1\n",
    "x[5] = 1\n",
    "x[6] = -1"
   ]
  },
  {
   "cell_type": "code",
   "execution_count": 39,
   "id": "bfb72824",
   "metadata": {},
   "outputs": [
    {
     "data": {
      "image/png": "[encoded data removed]",
      "text/plain": [
       "<Figure size 432x288 with 1 Axes>"
      ]
     },
     "metadata": {
      "needs_background": "light"
     },
     "output_type": "display_data"
    }
   ],
   "source": [
    "import matplotlib.pyplot as plt\n",
    "from matplotlib import cm\n",
    "from matplotlib.animation import FuncAnimation\n",
    "\n",
    "fig = plt.figure()\n",
    "ax = plt.axes(xlim=(0, 6), ylim=(-2, 2))\n",
    "xdata = np.arange(0, 7)\n",
    "line, = ax.plot(xdata, x)\n",
    "\n",
    "def update_plot(frame_num, x_true, b, x):\n",
    "    if frame_num > 0:\n",
    "        jacobi(A, x, b, omega=3.0/4)\n",
    "    error = np.abs(x_true - x)\n",
    "    print(np.linalg.norm(error))\n",
    "    line.set_data(xdata, x)\n",
    "    \n",
    "anim = FuncAnimation(fig, update_plot, frames=5, fargs=(x_true, b, x), interval=1000)"
   ]
  },
  {
   "cell_type": "code",
   "execution_count": 40,
   "id": "e581416a",
   "metadata": {
    "scrolled": true
   },
   "outputs": [
    {
     "name": "stdout",
     "output_type": "stream",
     "text": [
      "4.0\n",
      "4.0\n",
      "2.7838821814150108\n",
      "2.817356917396161\n",
      "2.6190408549696205\n",
      "2.6743866119168334\n"
     ]
    }
   ],
   "source": [
    "if save:\n",
    "    anim.save('wjacobi_1d.mp4', writer='ffmpeg', fps=1, dpi=100)"
   ]
  },
  {
   "cell_type": "code",
   "execution_count": 41,
   "id": "653dd789",
   "metadata": {},
   "outputs": [
    {
     "name": "stdout",
     "output_type": "stream",
     "text": [
      "2.6743866119168334\n",
      "2.6743866119168334\n",
      "2.6352107956480446\n",
      "2.6519726590549535\n",
      "2.6428776449343525\n",
      "2.6472474972173337\n"
     ]
    },
    {
     "data": {
      "text/html": [
       "<video width=\"432\" height=\"288\" controls autoplay loop>\n",
       "  <source type=\"video/mp4\" src=\"data:video/mp4;base64,AAAAIGZ0eXBNNFYgAAACAE00ViBpc29taXNvMmF2YzEAAAAIZnJlZQAAHGNtZGF0AAACrQYF//+p\n",
       "3EXpvebZSLeWLNgg2SPu73gyNjQgLSBjb3JlIDE2MyByMzA2MCA1ZGI2YWE2IC0gSC4yNjQvTVBF\n",
       "Ry00IEFWQyBjb2RlYyAtIENvcHlsZWZ0IDIwMDMtMjAyMSAtIGh0dHA6Ly93d3cudmlkZW9sYW4u\n",
       "b3JnL3gyNjQuaHRtbCAtIG9wdGlvbnM6IGNhYmFjPTEgcmVmPTMgZGVibG9jaz0xOjA6MCBhbmFs\n",
       "eXNlPTB4MzoweDExMyBtZT1oZXggc3VibWU9NyBwc3k9MSBwc3lfcmQ9MS4wMDowLjAwIG1peGVk\n",
       "X3JlZj0xIG1lX3JhbmdlPTE2IGNocm9tYV9tZT0xIHRyZWxsaXM9MSA4eDhkY3Q9MSBjcW09MCBk\n",
       "ZWFkem9uZT0yMSwxMSBmYXN0X3Bza2lwPTEgY2hyb21hX3FwX29mZnNldD0tMiB0aHJlYWRzPTkg\n",
       "bG9va2FoZWFkX3RocmVhZHM9MSBzbGljZWRfdGhyZWFkcz0wIG5yPTAgZGVjaW1hdGU9MSBpbnRl\n",
       "cmxhY2VkPTAgYmx1cmF5X2NvbXBhdD0wIGNvbnN0cmFpbmVkX2ludHJhPTAgYmZyYW1lcz0zIGJf\n",
       "cHlyYW1pZD0yIGJfYWRhcHQ9MSBiX2JpYXM9MCBkaXJlY3Q9MSB3ZWlnaHRiPTEgb3Blbl9nb3A9\n",
       "MCB3ZWlnaHRwPTIga2V5aW50PTI1MCBrZXlpbnRfbWluPTEgc2NlbmVjdXQ9NDAgaW50cmFfcmVm\n",
       "cmVzaD0wIHJjX2xvb2thaGVhZD00MCByYz1jcmYgbWJ0cmVlPTEgY3JmPTIzLjAgcWNvbXA9MC42\n",
       "MCBxcG1pbj0wIHFwbWF4PTY5IHFwc3RlcD00IGlwX3JhdGlvPTEuNDAgYXE9MToxLjAwAIAAAA8m\n",
       "ZYiEABf//vfUt8yy7VNvtguo96KeJl9DdSUBm5bE7TqAAAADAAZ3Ydz/7duDzUAOKmr+R1w5oFYJ\n",
       "StMLcZXmOCMQJW0sILxdxS+YOdTPAe6bHGih/HjOQ5moj/WeGDg5tGC2aFDsQeCc6QAAf30N/N+C\n",
       "F3/PPXj1FUKA1QL/bNaVzwIVAAA6SX8aICobkrUe0IAgkSMHqAVglL/rmp2pndU3+rhwV57kYD+k\n",
       "UIfIfaUKM/W4zNIIB19Unka06vTyO3w07+hQsn9k6xMe1fQ0YMpWwHedZHzwOwm//0h8aT4ZzV4m\n",
       "VVy4xXDFzvbeUrX+jKOwnTBnQCW5pf0BqcTcvB/si56cejg6jkmDYofoHVRnPG+gMkF/Xsl+qUMW\n",
       "WSgAh90nhAydWw0C3K/fWXnwP5lmMRE+Hha+2mZ09qg6C2K8rR41xghPXa+bY50lrIgkCJze567m\n",
       "J/A+3u7Xea1UuIniaYW5rC93nFLQk/Zc0/SlEisHzUgvQFoPr84TYbemczGWzlfP2cfAp34AAAMA\n",
       "/8wKRUV9bt0bIbUOoaWWzW9y3XUZ42UEHMm8ZgvjEqMK45clFTnfcWThOFiySK/lAdqvKKFxJgl9\n",
       "VOhmpGa6W+ATJF2LZzcld1I2d+ZaFc21ksIk5J4K/8+AocSYwXibW5d2KaGoKgojPIKH7A4uIfut\n",
       "K/0V4Tzim95+Q+HOxQuktzVDLFtRKfHRsL28otiSa9+0uKSAmwaF/sbb+Ba81/1WFKWGeXJUdb9u\n",
       "jrilJRyjOFIfkq7tf4T9v0IQiWO/0peynVB2Bv4DhDf3PQc/Bz7VZjdPFRsu+f1jAEdTkKnPhbNh\n",
       "CAqY6R6VPHZCoI24PIgUJJq/OxZeX6h60yXgkHIqYTdIy0n0Ft3DWJJBt+BgPJpnRVOV2ObbYhMw\n",
       "/HhLQ3dSOSpP/ERBk80Zoae+R/Bigt+QjJckQvxMwdhBgZLSFloYib2HlFNqG8wwpwJ3vCCf2ZA0\n",
       "2V8lT1ojvvG2oVWSsgdgR+kOtSHYiKgoGbgLp6jX1G5wxgzHNwZMh2CH775DDXOdgugtFEZjuLkR\n",
       "WFUpRjsmFiexpXKWdWY47Nfe/+Rxp3bkBv4691LPG6i7a+yybn/0CgAXiOXvCoZriZrJiqOUPqMr\n",
       "fa3BQEcfWCNHREDgQDdDa7TNweMrwHflksWByjwY0OhoVqlx9YtczNR7Shm20Oj2kogYJQamZT63\n",
       "wV36tYriiKjUTnSWnJ2jGTTYaQiVs/O05xtQqxpe9Gk0fJc+wMI505Qul+RO+a+swQHMa5S9VAQv\n",
       "d97+1Kt8iLazb6EkT1rnTCNHsc2SOXIWuOb1ppclpyxrjz9egIqe/im/BwbZUoZxNa4PG1mTM27Z\n",
       "KF0v5bLHIBv5uKSnPcsO03CbPJ11qIs/uQ59Se/V80dfoEpbZ47KP0DELP6AfNxPltlXZqsR9sht\n",
       "ZToFge/XW74d0nCtuAdFVo0dCkcTpq4xMJrf5r1rX15i8Hye/f2aI+ltZdfAdwS6nSRqsWZkfUbY\n",
       "7AI+9da1zxmU/ZUYpZWy7KryusErN0qaOd0IXCqpKTq9JNlGcjT3IrDp4KZyBKML3tNe7lGyao86\n",
       "6DmiUcaNB7NF4qvhn22YkOlGx7/+tfqYafs1JEq6KrxbF/YmMfIb5565kC5C0v0PfmdXQuV4YCRr\n",
       "ppn5ai1yARa9b4fKm893qvqaBENxH7L+AtR9rfz0RKwdMwP5Kf/ROiAqPVFHUaU+c4i7RsAQXbuy\n",
       "IbhKlkL6HiGvE7VBDVAH6Z36k3/zluURzOGx+DKrheCAEUyug4cN00CfSXw+vbNE7eSSXYSiXPA/\n",
       "c3z7BQIYHkHzxiN2uiZScHCCHUmnfHfPc6mCvvkR6U5rX5qNxUc96ZL+C+RWQdY5ezj/aaonX3+h\n",
       "o/UiOszaaoDCQimVITKblc8tAKFEAgz8XbmeByGgUcqc45cZxntR4sAnFJZ2HxYNTEHp5JOo/IYT\n",
       "APsUCwTZ56Qh4xxRMJqUCwUsJQR8oRAUnCWIUd6cVjSh3ig5VBTmmy3hss1s/xc8q0KdkqqGjXjj\n",
       "ZAkSBcHLyNYtAKHj+fDLc11vWRjIaDKFCZj1MkLVGwPZAfmTf1aVe5qFDa/4UNpJienjEWAhq915\n",
       "kyzkzTnuNdureqbsHHzUF/VtzkgCidCsVR3FGyDfzpnru2aj1e6j0H33v0nJ1MgWJ1FWPGT8Wbsz\n",
       "6DvSyqLn0ymwkwscOKosaJ9f6rUA/OYcJ/gsRiCwvhLrTwa4Hq8Askyf/9vxCapIGXJtd202ga2d\n",
       "5NNfhWGN8z1eJixVPQEHQfKiswfGpo0rKaII50zUQe1FkoH/D0+9oTaOav/kwWYgj6udP472yPT3\n",
       "wyeIDUKV+wC3+Y1zceav/pszZ9HwHoFDmmCf9ZIzvObzRT6dZSC3SLpgoM48bi3GIAiMSWFks+HA\n",
       "XDtqOoSTbhFCUeFXJGz8wZf5kpUzEn5qXPEfUdpNxdjc0YDpjvd94VbJt/rcIhJqCgLm1nmI3V5/\n",
       "zGLGlxbbZCqcEVMsEuGuXKPoACY4iJSlGH/zM88W8mh0JGe0qAmgw++AiMtqqrdcL8LQdLgGlBci\n",
       "tQC3eANnfzy70DMuUIrWDwUEL0oUD2XTUtcF/8dMINySG7Q/azEuwsP19UCw9vv7uL4KBpfpkDMM\n",
       "PnAvJ+RyCB87Xguj+Xd6Ha1bIe3hg/KeWQ8JZdmUIFCYcStPjMk0MjwjSQ5VyPiiLLDuEd3BCJ4s\n",
       "EoiR0fIuWEs9Y0TM5rh8ZGKjXYacvf67GFmYGY40b9ilNYxfTIyUA6QHTb5trV11TKQjIzA83+c2\n",
       "RBbzZywqLmz1s2xLua+7oy59fBCy03aW/HRDXA/AWRQ0/gx7f9xqH7ysJB1LjJSog6Hs5CPtYiWl\n",
       "ny/SzPhn4EBpcdMYwtAjoq6QdQRblMxVyhtE9pOgRd2JbvWc5hU3dCKnWTcuwSiTDoVdqBL2a6IX\n",
       "NjQLccj8ArJI3DhcQdaMVkhfeTx+lo006nFlOqkktv2p+nyWZhlEhgRx7BwFULmDM9AcatPaSdIJ\n",
       "dcg7vbF+v/SjTc1C8gms8+cspVaSQJpRUqQviPaD6VBloe2eJ6XtbviQR7bpbDBZokO/jKX76FYy\n",
       "sUClKZ6Ug43rj1A6ooALB7msgGohJjpLlEUsGLbnJi1gSY/l+i0Kl3TQ3k9inoLQG3m0hXzLL+3u\n",
       "MP46Ez3YO9uUGLeVfF0jnDmXFpsrhW49yOkIpNUZ0HXc+X/T5T69brFJ69/z03y9p41wjyS62ydT\n",
       "AJpy+c1EF82yNdIViwgUsXYdzMLYMM8gyk6TwnAXsq65HryihCa/CG28PO32nJafOsioMWS++XmQ\n",
       "7KBonpl6k2l5WwNFcvzENr+a48tnFKtVyHX8BpG9Qv1iqQk8Unz32jQ9vqekAAodc7zm02BlOMUr\n",
       "M41luAACCtxTHaXHYafQyX7ktDInCudDFXnu1pwTX0qjcJu2wA0mMz3YsyTGMceUW1f3sVh9AlAS\n",
       "JUH9oLil9cPe4aaxXd275gRo9ckz7W6GI27qaLkXOdy7yeNUVRM+P/vyZoP1d8XXDqhXubHfgYWa\n",
       "fewgoGSB3n4+XCAtWnny5R3DGSZgAo4uIe6a9qgNRDKt8Dnfss6r7b+Huj0P4Fge2v/xP2MSVxS9\n",
       "NoBbi29G0qK4d7SIb7YE89Y3HQ8MZEv9GbCoHKLrdanH1g28RMkWjN/YpgpLz13odCchvzyHUEi4\n",
       "DdwrQo6oRS+r7oLhCq7pd2MnsC0LlKUh0/G3LIfZtgLuoKmyjsiDRfae8iFklcUN7PwSL2MV8Per\n",
       "+GeQvK7Bf435Not+EwWZ/mc+6LJRj3oOwpDbx9Ck48Fj7uFU8+nUT8qO430shhPreHe74KjZyxT0\n",
       "RjU6YBh7LRE1f0LBD7gtx0sW3+HH090x7aNS7FTU38YwYMWR8O6pIRQm6DROCAHiMNqCVNXF9WkG\n",
       "R2NrYW+s4wNJYgAgZ6h8ujZVPMs+GeH3SvCfW8+e3sQkdk4W2URM4fqxdasJWshinN/NnUFmTReM\n",
       "u7y6Vgn9kGeA1aBdSK/yPilLE9ZxXig3ws8yLN3WIZopMUD6XMYr1NN4rAO1w+UBCPH5p2E26FA0\n",
       "uG7g5jZd8+jG3bBQZECfhCYpGse0uKR/y6aF/wobUSgxOAEVoEo+EgSUHYNj3h/UM2SBNwspLLZu\n",
       "mfFcP/WV85d0O5BJv6qUDEWbomtXCgYE0aWEcf4S6snA9f6UZ1D+TnvAth2zLNj5CQUHDU9565hM\n",
       "qEe+wV2pSvUuavv9PCT75Y2KG3wvf88HnjZwyRZoHtEtZ4r/XRvuO0y2CVMlrnGvLogG+Wpj5qJl\n",
       "NxPInklPWlGYevk5K/OGk0r825lGQDk7av/7hQPz4cXbKdV1PseOKytY6dOysS1Bin5R0IcyeJIc\n",
       "0rP9DT0JhDyrEC6axV0kOeo4AqW4SVbQnA0774bVZZGbXM6HlS3MgS4HCHu4bT5tIbShLe3a/7Pt\n",
       "yYLaeMKnwynT7ua5pjsP5GVQH3u7hrZBOz9S/Yq9duL59L/bXS+OdJfjM9oMzf3+pTWN5ppJTB78\n",
       "orP5lXNiUbmdmaOciQMm1vzLPO4BK0OU3M9uPbDjxKbzJP0sbUEF+AZ3Q3MvcntQ688XNQZ4rylU\n",
       "J3n2a2OoGN8kY+Wj4nDalw2LkQ6GvWlHE4/hu0AlYlFSxE7xQqJvxXXs4q+UmQrP74WFKSHVYCDO\n",
       "slNyI5NpGSZZLZE+5it1SYc94sQ/0omzsLfCpMsyqEN4lL6X3e+qrOv1EoE+gdRLg2OrruL4KOTw\n",
       "L6bUylqUQhaVHrBT44KnDJ1VXs3YrGRX4KDYUg1ZA1PSX0IxUGqiR4E3jH0PK2ps+Ee4NudcSmW7\n",
       "lCo5MluRNB3jgWmyJG1UMc9zWou+6kLLGpup6JHufqcIJFHxlLdEsah4LzGVxs0W9PpbHI/zLzvw\n",
       "3X+/Afhcq6QreGq9idKaLZ1VW8ljY14H6NWMxcXLXuoKr96svLt4+bhMRJ7Mw+u4vgo/eKchvwDu\n",
       "EZ0Cjc6LfB1W7vOAgqnx8I/iws5OhRrNzEMFOdA3IjAqtH/L+/8hwxK3ScE9w4ISrHATymYWIyS6\n",
       "uIRGcFqPTfqLlivvoDGXzAOSxkdIN9stY22QAPJ6mUk5AkSwNJ8SbMbKwrEJSkedcVj2mwAJmGAA\n",
       "2oEAAALBQZokbEFf/talUAHdfmKABEKRt3eXaGvMZSvp08EiuqtZKx9EpWz6e0i0OVgfpPYY3b33\n",
       "zc1fpFPFjjPgitR/crHBXrxPATFB/3ZMFaAL5x9HPTKLx4kGYHP+KdFWE+zZuTa971p0O8cmVHdl\n",
       "mblndsm+4iR/qV/zOSTSiB05jNZz4KEgUqObD/XER6G7jOi3HNS8RRRdWtwd0E3XeAifjCWPfjpZ\n",
       "5HYw+PD1fAEoYDcTwS2zbaDEPpruWWaqQNu0iEFVr02Vuss6iJkdLx8f0GUFEQDTSizuKRuzsTY9\n",
       "dPqojwtu20ev34IaKD1gUnwHEGTZFGgJd/FNnpFygBDY0xVnw764PwsM47MGmSxluIr804sOL1O/\n",
       "QJw/K3e6EHYQM6oGYs+kEB2T9uzsHnFumtSwi6BHwH9B/bBiVlag+b4Zd9z3dnwU3rX+hBNqRKZd\n",
       "wTQHkyI12stVQrK6nCRvEC/8IdnAp6FB0UAQpCZQCU9WLK6l5y0l0mNTWJAXW0XoLwBK3ft1MHaX\n",
       "MK0yZOh97q8KuwDhJyEfwWdbZvai8ew2gnDjdYBbczlNgGvPQIZRrSPwjjDdYD49ynuKBb8YQugq\n",
       "tZo8QieWOm9j7zv0QZIRC2LoB04qkbHE61YHEDkn//5lWtQ995gN+IhQxCH6Dz0AjHZi1KlUF73G\n",
       "afzjb7WgP9cyymD7hZwGxxYP7s0Cu/W6IcjpSXv/q3nZ68nUH568VoCD6LJ5LDIdvxMLOwIruAXD\n",
       "3YtmdpWKT0u0moxA9UDunUIxKm07B/lSdIkKZ9haDuEn3Te0I1BBDQ9+Nc3eCd4UUGzeQREEvXlW\n",
       "LFemaDgE4IazJopVAoorA14YIEIxRWSCsTFd7CH8L77JEpEDrmJeJ5+5tHDZuWP2KnRI4scQorQr\n",
       "s5JrlGPxMlpi9o3MPnPkKDnrqcb5Srap7ZIwAAAC7UGeQniC3wAA0akTmvvLN96VtpMcoZABLPch\n",
       "MQ9PW8s4BhxKwO4ud4txu3i9yPUUSMdgqLhNrOMvz3ugikSEOztFaOJZZoevtbwvLdRY3/TESOnQ\n",
       "1gucSFbvDAdMTa2GF1V+vnZJcAJ/LR6OjWNJM/OtpgF7mutet4FPoj9m5WTh2Xk0Dy8iDpOxUvWG\n",
       "bqvNUUZ/XqcfA2qW1Kno1Q1v29zQJC+opXHZyWTlAWiIhIXA4JEc90ZsfVhojz3hmUEdte6RqSWw\n",
       "LEysPON/PvikZG/6gffclXowblekmRmMqTr8vmUeezBBSGo951WEG1Zqg/0poTS9ymQVCrpoEXeV\n",
       "D5TP0S5/II1NL3BGDqgsFjXvwOzgP3BefXLPvuwajdyQmUcGFvTWl4aCenIVXKttk6sCKMjOYncJ\n",
       "zx3i9HOp3gzxkej6IDth1BHWFuhbrU0VGSK8R0TtkyHL9Dcz56+nA4Qo8uUWDHrFgEGQNKxQ0fm1\n",
       "IdRl1O6nmYzCrbZ0p+eZSmyKcwdXdNvXeBe3/GEcYGkjf890lFa+hP/iyVSGVN2Izt/ttEv0XBwX\n",
       "Tbc4VENxsTunYsdG0wG0YW80T5KmzibxIcCs+IAZUeHKt3JsQrbglk5huuIQDvsRvxsHuqiLWCS6\n",
       "AC8JKuGtcqTyVLgVbalm26vLaCSach78Zf3RpT3oXlYRWWxNNHwT7vNtxvW3bVoBAMFHNB9Z1K2I\n",
       "5kSZ5Lf9W1ls3StFW3G7KBupL8cIJdQIbtIhE3LuwvmrPYIUVmxGSApsJm8IAcqX5iZK5endW1PQ\n",
       "7txbXKePcwpbWnvvYQKiE1ZlGSuXbh0jvFEx7RpRr6y9H+Eor9Qj8+lvG8/vpBPpbzDksn8eF5xF\n",
       "dMhMVkbwK7FM02jI274fEtBOVzhyw1Uts9zHk6QkeEZuAZlGWF6Tb7l5sdOWQZmVqi2SiWWzhn5p\n",
       "w5kHHbdsB55t/2g0ZLfIjl4q8lQdm8nRK5j5+eJzxGQBGtDCYuo5AAAC7QGeYXRBXwABRTVvFwDm\n",
       "8HFYL1zMKUDoAQqptnKhmJI3eKy4f80b3RmSBBvOzWt1KW8q4HthMT8uZz41wwRnIGox27AbNlHR\n",
       "tJxIrvmuEQX5VlxQkk2vxLVJwb8O3x1JD1KiJrMZEHWv7bpkKsQv0H54yC4lwfQp8fVdrwUIl74D\n",
       "6KmQZ4FW2VLNCR7szbDVaf1F/tjdOo0zcm1t3W4O2yAtKkpk7FSd4SZLTQa7zU3lyrYxvrh27v1m\n",
       "WU0lGjX6K0oQG+0iMfCIVCqX4FJyx/st4E+zLsSWghhjOuFinnYmTGT92y/B+qE6zeAXRM/g7STt\n",
       "WrJesZ93uV6faH5jRQ3mu/BJGXfJ7eWv8Xv+4nT/DbWGCuOnzySAr+F0uzBFlRJfO1dv7KA+Mgs+\n",
       "BGsPKvCwlpaqerk62aScOh/PPMZrjU477KDgZjwuBrIom3Z7eEKdr/dhwJOsEWbvbbVhFzRZOs+t\n",
       "b3463TfwiIplmB62mBSZ2cYzDBO4iG4Fo0+lla406nJVXYXxRsT7x23OQfYUPWDc9qNVbWU7Cv83\n",
       "U81mUcs2oKw9GdBLWte4l6OHSBv/KnPHJqearF659x0kQTzfYsCHL5YcoGyKn29KiSjSTHe1dDgZ\n",
       "EJu3qSdijLnub7L91cscMect6css/OAH+HdKHH/+XT6fcH/94c9QBmnOGYHU4rmPMbsEqFQbrQWj\n",
       "43bfsquswAvlGuASPkuDQvuMI957GE3h0sB3YioXPlMR42Q4yA6VLMnJBuBGFbhVggaGFJ+Nf8F8\n",
       "owiUcWk6FT7YhhReh9lOu8cRtNwvk66EVQkURES/pVqq63Jv6FAWsMurZeRlkMAAE6z52Ry2sEEE\n",
       "E0/RvWaJuypQ8K6/x9t/Yvhh5H5g+p8CFlTByYk5+CIkuAzt/ioqv7QuF8FeyMGR3rXKWCBuqjvv\n",
       "FsGgxDXwGr0KLxar3YFjccxgSPhFl5V2qsVS/9M63iza6PjS3r7WY2OQNGRPECXlTF5AAAAB1QGe\n",
       "Y2pBXwAACegIKDwARCkD5WaHDEslQpb2F/gEtCL30pZjtVRVw7L42NKuQt3uzrCO4wTfIhI3zbWg\n",
       "uHPx+6sPbwGQGGZ4c/xdjzATgxbECOwCDigakJBRwDA9wc4EnMVoaomWRB5rn67diwnNbHr5FGKO\n",
       "QjV6jpkfjN8pNEWczxHP5m2l2WRoT5YHcgzd0QV/1kq43gG1ngGdRIRTeGVy++VB873ymf92l5le\n",
       "0wnuoe73sBlBc7eRHqKnxbHK+Mb9at+10bWyOYp3XX+1N2/Fze29/3aRhcnn7lo7qWcL0eIcCBUb\n",
       "UpjWQ73OXkEQpsPmuT6uZ7B8zB2eGE8vOQHcMpUk2v6h4Dwlf/1iwN5CaNh4Ptj8JGNFaqfko/TX\n",
       "0OjxJeNuJbURPr4PR1mzV2TLabxTVvMeaObVBEXs88fNzJdXc0wuoVysdz03uBKktqK49iMNNwPj\n",
       "nmPlUOKgAx9MCcKogN6BahFDHSzbxy4ESP/XK3EUQWa5U82IHQwbEWbRmF3Gddz1UT5WO/GRhbqT\n",
       "5qf9+oNxZAUf/Pmvd3nMxczSl1TVy53Q7iMhGGuGszxaTp0FSKaWp8K9KB6Ccpr8NcH7nwZixv9E\n",
       "zm/zlH3hReUIo4EAAANubW9vdgAAAGxtdmhkAAAAAAAAAAAAAAAAAAAD6AAAE4gAAQAAAQAAAAAA\n",
       "AAAAAAAAAAEAAAAAAAAAAAAAAAAAAAABAAAAAAAAAAAAAAAAAABAAAAAAAAAAAAAAAAAAAAAAAAA\n",
       "AAAAAAAAAAAAAAAAAgAAAph0cmFrAAAAXHRraGQAAAADAAAAAAAAAAAAAAABAAAAAAAAE4gAAAAA\n",
       "AAAAAAAAAAAAAAAAAAEAAAAAAAAAAAAAAAAAAAABAAAAAAAAAAAAAAAAAABAAAAAAbAAAAEgAAAA\n",
       "AAAkZWR0cwAAABxlbHN0AAAAAAAAAAEAABOIAACAAAABAAAAAAIQbWRpYQAAACBtZGhkAAAAAAAA\n",
       "AAAAAAAAAABAAAABQABVxAAAAAAALWhkbHIAAAAAAAAAAHZpZGUAAAAAAAAAAAAAAABWaWRlb0hh\n",
       "bmRsZXIAAAABu21pbmYAAAAUdm1oZAAAAAEAAAAAAAAAAAAAACRkaW5mAAAAHGRyZWYAAAAAAAAA\n",
       "AQAAAAx1cmwgAAAAAQAAAXtzdGJsAAAAt3N0c2QAAAAAAAAAAQAAAKdhdmMxAAAAAAAAAAEAAAAA\n",
       "AAAAAAAAAAAAAAAAAbABIABIAAAASAAAAAAAAAABAAAAAAAAAAAAAAAAAAAAAAAAAAAAAAAAAAAA\n",
       "AAAAAAAAGP//AAAANWF2Y0MBZAAV/+EAGGdkABWs2UGwloQAAAMABAAAAwAIPFi2WAEABmjr48si\n",
       "wP34+AAAAAAcdXVpZGtoQPJfJE/FujmlG88DI/MAAAAAAAAAGHN0dHMAAAAAAAAAAQAAAAUAAEAA\n",
       "AAAAFHN0c3MAAAAAAAAAAQAAAAEAAAA4Y3R0cwAAAAAAAAAFAAAAAQAAgAAAAAABAAFAAAAAAAEA\n",
       "AIAAAAAAAQAAAAAAAAABAABAAAAAABxzdHNjAAAAAAAAAAEAAAABAAAABQAAAAEAAAAoc3RzegAA\n",
       "AAAAAAAAAAAABQAAEdsAAALFAAAC8QAAAvEAAAHZAAAAFHN0Y28AAAAAAAAAAQAAADAAAABidWR0\n",
       "YQAAAFptZXRhAAAAAAAAACFoZGxyAAAAAAAAAABtZGlyYXBwbAAAAAAAAAAAAAAAAC1pbHN0AAAA\n",
       "Jal0b28AAAAdZGF0YQAAAAEAAAAATGF2ZjU4Ljc2LjEwMA==\n",
       "\">\n",
       "  Your browser does not support the video tag.\n",
       "</video>"
      ],
      "text/plain": [
       "<IPython.core.display.HTML object>"
      ]
     },
     "execution_count": 41,
     "metadata": {},
     "output_type": "execute_result"
    }
   ],
   "source": [
    "from IPython.display import HTML\n",
    "HTML(anim.to_html5_video())"
   ]
  },
  {
   "cell_type": "code",
   "execution_count": null,
   "id": "d3d49c2a",
   "metadata": {},
   "outputs": [],
   "source": []
  },
  {
   "cell_type": "code",
   "execution_count": null,
   "id": "714cd1ff",
   "metadata": {},
   "outputs": [],
   "source": []
  }
 ],
 "metadata": {
  "kernelspec": {
   "display_name": "Python 3 (ipykernel)",
   "language": "python",
   "name": "python3"
  },
  "language_info": {
   "codemirror_mode": {
    "name": "ipython",
    "version": 3
   },
   "file_extension": ".py",
   "mimetype": "text/x-python",
   "name": "python",
   "nbconvert_exporter": "python",
   "pygments_lexer": "ipython3",
   "version": "3.9.7"
  }
 },
 "nbformat": 4,
 "nbformat_minor": 5
}
